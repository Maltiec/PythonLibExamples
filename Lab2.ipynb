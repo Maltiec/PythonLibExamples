{
 "cells": [
  {
   "cell_type": "markdown",
   "id": "85639f22-83c7-448e-808a-b602b1e9d43c",
   "metadata": {},
   "source": [
    "# Лабораторная работа 2. Генерация звука с помощью аддитивного синтеза и шумовых компонентов\n",
    "\n",
    "## Цель работы:\n",
    "\n",
    "1. Освоить основы аддитивного синтеза звука.\n",
    "\n",
    "2. Научиться генерировать гармонические и шумовые сигналы.\n",
    "\n",
    "3. Изучить влияние параметров синтеза на тембр звука.\n",
    "\n",
    "4. Создать сложные звуки, комбинируя гармоники и шумы.\n"
   ]
  },
  {
   "cell_type": "markdown",
   "id": "9ee3e966-40f4-4883-8de7-416333c93680",
   "metadata": {},
   "source": [
    "## Задача 1. Генерация простого тона\n",
    "\n",
    "Цель: Создать синусоидальный сигнал частотой 440 Гц (нота \"Ля\") длительностью 2 секунды.\n",
    "\n",
    "Шаги:\n",
    "\n",
    "1. Задайте параметры:\n",
    "   - Частота дискретизации 44100 Гц\n",
    "   - Длительность 2 с\n",
    "   - Частота сигнала 440 Гц\n",
    "   - Амплитуда 0.5\n",
    "2. Сгенерируйте временную ось t.\n",
    "3. Постройте сигнал.\n",
    "4. Воспроизведите звук и постройте график (первые 1000 отсчётов).\n",
    "\n",
    "**Вопрос:** Как изменится звук, если увеличить частоту до 880 Гц?"
   ]
  },
  {
   "cell_type": "code",
   "execution_count": null,
   "id": "3ae3f680-8388-4960-adbb-7f34e237868b",
   "metadata": {},
   "outputs": [],
   "source": [
    "!sudo apt-get install libportaudio2\n",
    "!pip install sounddevice"
   ]
  },
  {
   "cell_type": "code",
   "execution_count": null,
   "id": "574c1a07-a960-49d5-a514-25a47b5536d1",
   "metadata": {},
   "outputs": [],
   "source": [
    "import numpy as np\n",
    "import matplotlib.pyplot as plt\n",
    "from IPython.display import Audio\n",
    "\n",
    "# Напишите свой код здесь"
   ]
  },
  {
   "cell_type": "markdown",
   "id": "b27c9254-bb66-46a6-a4ec-b6cf4b0a20a2",
   "metadata": {},
   "source": [
    "## Задача 2. Аддитивный синтез с тремя гармониками\n",
    "\n",
    "Цель: Создать звук с основной частотой 220 Гц и тремя гармониками (2-я, 3-я, 4-я).\n",
    "\n",
    "Шаги:\n",
    "\n",
    "1. Задайте параметры:\n",
    "   - Основная частота 220 Гц\n",
    "   - Гармоники: (1, 2, 3, 4)\n",
    "   - Амплитуды: (1.0, 0.5, 0.3, 0.1)\n",
    "2. Сгенерируйте сигнал как сумму гармоник.\n",
    "3. Воспроизведите звук и постройте спектр (используйте `scipy.fft.fft`).\n",
    "\n",
    "**Вопрос:** Как изменится тембр, если увеличить амплитуду 3-й гармоники до 0.7?"
   ]
  },
  {
   "cell_type": "code",
   "execution_count": null,
   "id": "ab045634-39d5-4cd8-95d4-099c689bf5da",
   "metadata": {},
   "outputs": [],
   "source": [
    "# Напишите свой код здесь"
   ]
  },
  {
   "cell_type": "markdown",
   "id": "2cdf6df6-2f8c-4894-93bf-1b2af443b415",
   "metadata": {},
   "source": [
    "## Задача 3. Генерация белого и розового шума\n",
    "\n",
    "Цель: Сравнить белый и розовый шум.\n",
    "\n",
    "Шаги:\n",
    "\n",
    "1. Сгенерируйте белый шум (равномерное распределение).\n",
    "\n",
    "2. Сгенерируйте розовый шум (фильтрация белого шума).\n",
    "\n",
    "3. Постройте спектры обоих шумов.\n",
    "\n",
    "**Вопрос:** Почему розовый шум звучит \"мягче\" белого?"
   ]
  },
  {
   "cell_type": "code",
   "execution_count": null,
   "id": "337491df-447a-420b-8044-26ca69d89a21",
   "metadata": {},
   "outputs": [],
   "source": [
    "# Напишите свой код здесь"
   ]
  },
  {
   "cell_type": "markdown",
   "id": "8d598425-a2cd-4401-96ff-1ddf2a6d159e",
   "metadata": {},
   "source": [
    "## Задача 4. Гибридный звук (гармоника + шум)\n",
    "\n",
    "Цель: Создать звук флейты с шумовым компонентом (имитация дыхания).\n",
    "\n",
    "Шаги:\n",
    "\n",
    "1. Сгенерируйте гармонический сигнал (основная частота 440 Гц, 4 гармоники).\n",
    "\n",
    "2. Добавьте белый шум с амплитудой 0.2.\n",
    "\n",
    "3. Примените ADSR-огибающую:\n",
    "\n",
    "Атака = 0.1 с\n",
    "\n",
    "Спад = 0.3 с\n",
    "\n",
    "Уровень поддержки = 0.6\n",
    "\n",
    "Затухание = 0.5 с\n",
    "\n",
    "4. Воспроизведите звук.\n",
    "\n",
    "**Вопрос:** Как изменится звук, если заменить белый шум на розовый?"
   ]
  },
  {
   "cell_type": "code",
   "execution_count": null,
   "id": "8144025f-acd1-462b-a574-bb0c81aff767",
   "metadata": {},
   "outputs": [],
   "source": [
    "# Напишите свой код здесь"
   ]
  },
  {
   "cell_type": "markdown",
   "id": "8d0e3e50-7638-4fd0-99ca-033d8fcc85e7",
   "metadata": {},
   "source": [
    "## Задача 5. Синтез барабанного звука\n",
    "\n",
    "Цель: Создать звук малого барабана (snare drum).\n",
    "\n",
    "Шаги:\n",
    "\n",
    "1. Сгенерируйте короткий гармонический импульс (100 Гц, длительность 0.05 с).\n",
    "\n",
    "2. Добавьте розовый шум с огибающей, которая быстро спадает.\n",
    "\n",
    "3. Смешайте гармоническую и шумовую части в соотношении 30% / 70%.\n",
    "\n",
    "4. Воспроизведите звук.\n",
    "\n",
    "**Вопрос:** Как можно изменить звук, чтобы он больше походил на бас-бочку (kick drum)?"
   ]
  },
  {
   "cell_type": "code",
   "execution_count": null,
   "id": "05a81cce-bff2-4b58-80c2-7b50fa17a43c",
   "metadata": {},
   "outputs": [],
   "source": [
    "# Напишите свой код здесь"
   ]
  },
  {
   "cell_type": "markdown",
   "id": "e59b3317-dc96-4024-bcae-71946fee50a6",
   "metadata": {},
   "source": [
    "## Доп. задание (по желанию):\n",
    "\n",
    "Создайте звук, имитирующий акустическую гитару, используя:\n",
    "\n",
    "1. 6 гармоник с нелинейно убывающими амплитудами,\n",
    "\n",
    "2. небольшой шумовой компонент (0.1),\n",
    "\n",
    "3. ADSR-огибающую с плавной атакой."
   ]
  },
  {
   "cell_type": "code",
   "execution_count": null,
   "id": "e033e5e9-5109-4a83-8411-4d3b8df84023",
   "metadata": {},
   "outputs": [],
   "source": [
    "# Напишите свой код здесь"
   ]
  },
  {
   "cell_type": "markdown",
   "id": "56f942ef-ae12-4971-8585-3ce1d1f62866",
   "metadata": {},
   "source": [
    "## Приложение:\n",
    "\n",
    "Пример кода для генерации ADSR-огибающей:"
   ]
  },
  {
   "cell_type": "code",
   "execution_count": null,
   "id": "7a822c32-8455-487d-a73e-5bdb4b59bf82",
   "metadata": {},
   "outputs": [],
   "source": [
    "def apply_adsr(signal, fs, attack, decay, sustain_level, release):\n",
    "    n_samples = len(signal)\n",
    "    envelope = np.zeros(n_samples)\n",
    "    \n",
    "    attack_end = int(attack * fs)\n",
    "    decay_end = attack_end + int(decay * fs)\n",
    "    release_start = n_samples - int(release * fs)\n",
    "    \n",
    "    # Attack (линейный рост)\n",
    "    envelope[:attack_end] = np.linspace(0, 1, attack_end)\n",
    "    \n",
    "    # Decay (спад до уровня sustain)\n",
    "    envelope[attack_end:decay_end] = np.linspace(1, sustain_level, decay_end - attack_end)\n",
    "    \n",
    "    # Sustain (постоянный уровень)\n",
    "    envelope[decay_end:release_start] = sustain_level\n",
    "    \n",
    "    # Release (линейное затухание)\n",
    "    envelope[release_start:] = np.linspace(sustain_level, 0, n_samples - release_start)\n",
    "    \n",
    "    return signal * envelope"
   ]
  }
 ],
 "metadata": {
  "kernelspec": {
   "display_name": "Python (basic)",
   "language": "python",
   "name": "basic"
  },
  "language_info": {
   "codemirror_mode": {
    "name": "ipython",
    "version": 3
   },
   "file_extension": ".py",
   "mimetype": "text/x-python",
   "name": "python",
   "nbconvert_exporter": "python",
   "pygments_lexer": "ipython3",
   "version": "3.12.7"
  }
 },
 "nbformat": 4,
 "nbformat_minor": 5
}
